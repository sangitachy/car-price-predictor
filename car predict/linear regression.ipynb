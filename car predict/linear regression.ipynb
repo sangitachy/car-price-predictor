{
 "cells": [
  {
   "cell_type": "code",
   "execution_count": 5,
   "metadata": {},
   "outputs": [
    {
     "ename": "ModuleNotFoundError",
     "evalue": "No module named 'pandas'",
     "output_type": "error",
     "traceback": [
      "\u001b[1;31m---------------------------------------------------------------------------\u001b[0m",
      "\u001b[1;31mModuleNotFoundError\u001b[0m                       Traceback (most recent call last)",
      "Cell \u001b[1;32mIn[5], line 1\u001b[0m\n\u001b[1;32m----> 1\u001b[0m \u001b[39mimport\u001b[39;00m \u001b[39mpandas\u001b[39;00m \u001b[39mas\u001b[39;00m \u001b[39mpd\u001b[39;00m\n\u001b[0;32m      2\u001b[0m \u001b[39mimport\u001b[39;00m \u001b[39mmatplotlib\u001b[39;00m\u001b[39m.\u001b[39;00m\u001b[39mpyplot\u001b[39;00m \u001b[39mas\u001b[39;00m \u001b[39mplt\u001b[39;00m\n\u001b[0;32m      3\u001b[0m \u001b[39mimport\u001b[39;00m \u001b[39mseaborn\u001b[39;00m \u001b[39mas\u001b[39;00m \u001b[39msns\u001b[39;00m\n",
      "\u001b[1;31mModuleNotFoundError\u001b[0m: No module named 'pandas'"
     ]
    }
   ],
   "source": [
    "import pandas as pd\n",
    "import matplotlib.pyplot as plt\n",
    "import seaborn as sns\n",
    "from sklearn.model_selection import train_test_split\n",
    "from sklearn.linear_model import LinearRegression\n",
    "from sklearn import metrics\n",
    "\n",
    "car_dataset = pd.read_csv('car data.csv')\n",
    "\n",
    "car_dataset.info()\n",
    "\n",
    "#checking the distribution of categorical data\n",
    "print(car_dataset.Fuel_Type.value_counts())\n",
    "print(car_dataset.Seller_Type.value_counts())\n",
    "print(car_dataset.Transmission.value_counts())\n",
    "\n",
    "#encoding \"Fuel_Type\" column\n",
    "car_dataset.replace({'Fuel_Type':{'Petrol':0,'Diesel':1,'CNG':2}},inplace=True)\n",
    "\n",
    "#encoding \"Seller_Type\" column\n",
    "car_dataset.replace({'Seller_Type':{'Dealer':0,'Individual':1}},inplace=True)\n",
    "\n",
    "#encoding \"Transmission\" column\n",
    "car_dataset.replace({'Transmission':{'Manual':0,'Automatic':1}},inplace=True)\n",
    "\n",
    "car_dataset.head()\n",
    "\n",
    "#spliting the data and target\n",
    "X = car_dataset.drop(['Car_Name','Selling_Price'],axis=1)\n",
    "Y = car_dataset['Selling_Price']\n",
    "\n",
    "print(X)\n",
    "X.shape\n",
    "\n",
    "print(Y)\n",
    "\n",
    "#splitting Training and Test data\n",
    "X_train, X_test, Y_train, Y_test = train_test_split(X, Y, test_size = 0.1, random_state=2)\n",
    "Y_test\n",
    "\n",
    "\n",
    "#Model Training\n",
    "#loading the linear regression model\n",
    "lin_reg_model = LinearRegression()\n",
    "\n",
    "lin_reg_model.fit(X_train, Y_train)\n",
    "\n",
    "#Model Evaluation\n",
    "training_data_prediction = lin_reg_model.predict(X_train)\n",
    "training_data_prediction\n",
    "\n",
    "#R squared error\n",
    "error_score = metrics.r2_score(Y_train, training_data_prediction)\n",
    "print(\"R squared error :\",error_score)\n",
    "\n",
    "#visualize the actual prices and predivted price\n",
    "plt.scatter(Y_train, training_data_prediction)\n",
    "plt.xlabel(\"Actual Price\")\n",
    "plt.ylabel(\"Predicted Price\")\n",
    "plt.title(\"Actual Price vs Predicted Price\")\n",
    "plt.show()\n",
    "\n",
    "#prediction on training data\n",
    "test_data_prediction = lin_reg_model.predict([[1,2014,5.59,27000,1,0,0 ]])\n",
    "\n",
    "test_data_prediction\n",
    "\n",
    "import pickle\n",
    "\n",
    "pickle.dump(test_data_prediction,open(\"predected.pkl\",\"wb\"))\n",
    "\n",
    "x = pickle.load(open(\"predected.pkl\",\"rb\"))\n",
    "x\n",
    "\n",
    "\n"
   ]
  }
 ],
 "metadata": {
  "kernelspec": {
   "display_name": "Python 3",
   "language": "python",
   "name": "python3"
  },
  "language_info": {
   "codemirror_mode": {
    "name": "ipython",
    "version": 3
   },
   "file_extension": ".py",
   "mimetype": "text/x-python",
   "name": "python",
   "nbconvert_exporter": "python",
   "pygments_lexer": "ipython3",
   "version": "3.10.10"
  },
  "orig_nbformat": 4,
  "vscode": {
   "interpreter": {
    "hash": "5c1f741a4f83aa020b4b2a4d7353a073a4e5e4a855a3258a20da40294ddbf005"
   }
  }
 },
 "nbformat": 4,
 "nbformat_minor": 2
}
